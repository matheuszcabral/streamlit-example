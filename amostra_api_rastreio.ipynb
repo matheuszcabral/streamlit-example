{
  "nbformat": 4,
  "nbformat_minor": 0,
  "metadata": {
    "colab": {
      "provenance": [],
      "include_colab_link": true
    },
    "kernelspec": {
      "name": "python3",
      "display_name": "Python 3"
    },
    "language_info": {
      "name": "python"
    }
  },
  "cells": [
    {
      "cell_type": "markdown",
      "metadata": {
        "id": "view-in-github",
        "colab_type": "text"
      },
      "source": [
        "<a href=\"https://colab.research.google.com/github/matheuszcabral/streamlit-example/blob/master/amostra_api_rastreio.ipynb\" target=\"_parent\"><img src=\"https://colab.research.google.com/assets/colab-badge.svg\" alt=\"Open In Colab\"/></a>"
      ]
    },
    {
      "cell_type": "code",
      "execution_count": null,
      "metadata": {
        "id": "Y9izd3zCectA"
      },
      "outputs": [],
      "source": [
        "import requests\n",
        "import json\n",
        "from time import sleep\n",
        "\n",
        "def alternate(tracking_code):\n",
        "\n",
        "  \"\"\"\n",
        "  Retorna um json(dict) com o resultado de consulta dos rastreios provenientes de compras internacionais.\n",
        "  ------------------------------------------------------------------------------------------------------\n",
        "\n",
        "  Argumento: str, obrigatório\n",
        "    tracking_code : código de rastreio com 13 dígitos (4 letras + 9 números). Exemplos: NA871556323BR,NL337279745BR.\n",
        "\n",
        "  Retorno: dict\n",
        "    dados : dicionário com última atualização do rastreio contendo status, data e cidade/estado.\n",
        "\n",
        "  \"\"\"\n",
        "\n",
        "  url = f\"https://api.melhorrastreio.com.br/api/v1/trackings/{tracking_code}\"\n",
        "\n",
        "  payload = \"\"\n",
        "  headers = {\n",
        "      \"authority\": \"api.melhorrastreio.com.br\",\n",
        "      \"accept\": \"application/json, text/plain, */*\",\n",
        "      \"accept-language\": \"pt-BR,pt;q=0.9,en-US;q=0.8,en;q=0.7\",\n",
        "      \"origin\": \"https://www.melhorrastreio.com.br\",\n",
        "      \"referer\": f\"https://www.melhorrastreio.com.br/meu-rastreio/{tracking_code}\",\n",
        "      \"sec-ch-ua\": '\"Chromium\";v=\"106\", \"Google Chrome\";v=\"106\", \"Not;A=Brand\";v=\"99\"',\n",
        "      \"sec-ch-ua-mobile\": \"?0\",\n",
        "      \"sec-ch-ua-platform\": 'Windows',\n",
        "      \"sec-fetch-dest\": \"empty\",\n",
        "      \"sec-fetch-mode\": \"cors\",\n",
        "      \"sec-fetch-site\": \"same-site\",\n",
        "      \"user-agent\": \"Mozilla/5.0 (Windows NT 10.0; Win64; x64) AppleWebKit/537.36 (KHTML, like Gecko) Chrome/106.0.0.0 Safari/537.36\"\n",
        "  }\n",
        "\n",
        "  response = requests.request(\"GET\", url, data=payload, headers=headers, timeout=30)\n",
        "  dados = response.json()['data']['events'][-1]\n",
        "  return dados \n",
        "\n",
        "#códigos para teste\n",
        "codigos = ['NA899467274BR','NB027507961BR','NL452881669BR','LX636340679CN','LE504793701SE','LB766914572HK','NL264529520BR','NA457131018BR']\n",
        "\n",
        "#loop para cada código dentro da lista códigos  \n",
        "for codigo in codigos:\n",
        "  \n",
        "  sleep(1) #sleep de 1 segundo para cada loop\n",
        "\n",
        "  #Tentativa de consulta ao código\n",
        "  try:\n",
        "    json_request = alternate(codigo) #dict com resultado da consulta\n",
        "    status_br = json_request['events'] #status do rastreio\n",
        "    data = json_request['date'][0:10] #data do status\n",
        "\n",
        "    #Verificação se há cidade e estado no dict\n",
        "    try:\n",
        "      cidade = json_request['city'].title() #cidade do status do rastreio\n",
        "      estado = json_request['uf'].upper() #estado do status do rastreio\n",
        "      cidade_uf = f'{cidade}/{estado}' #string formatada com cidade e estado\n",
        "\n",
        "      #Caso verificação seja verdadeira\n",
        "      print(f'{codigo}, {status_br}, {data}, {cidade_uf}')#resultado da consulta\n",
        "\n",
        "    #Caso não haja cidade e estado no dict de retorno\n",
        "    except:\n",
        "      print(f'{codigo}, {status_br}, {data}')#resultado da consulta\n",
        "\n",
        "  #Caso a consulta falhe, retornará rastreio não encontrado\n",
        "  except:\n",
        "    print(f'{codigo}, não encontrado')#resultado da consulta"
      ]
    }
  ]
}